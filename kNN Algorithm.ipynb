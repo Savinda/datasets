{
 "cells": [
  {
   "cell_type": "code",
   "execution_count": 109,
   "metadata": {},
   "outputs": [],
   "source": [
    "import csv\n",
    "import random\n",
    "import math\n",
    "import operator"
   ]
  },
  {
   "cell_type": "code",
   "execution_count": 110,
   "metadata": {},
   "outputs": [],
   "source": [
    "# 1 HANDLE DATA\n",
    "def loadDataset(filename, split, trainingSet=[], testSet=[]):\n",
    "    with open(r'datasets/iris.csv') as csvfile:\n",
    "        lines = csv.reader(csvfile)\n",
    "        dataset = list(lines)\n",
    "        for X in range(len(dataset)-1):\n",
    "            for y in range(4):\n",
    "                dataset[X][y] = float(dataset[X][y])\n",
    "            if random.random() < split:\n",
    "                trainingSet.append(dataset[X])\n",
    "            else:\n",
    "                testSet.append(dataset[X])"
   ]
  },
  {
   "cell_type": "code",
   "execution_count": 111,
   "metadata": {},
   "outputs": [],
   "source": [
    "# trainingSet=[]\n",
    "# testSet=[]\n",
    "# loadDataset(dataset, 0.66, trainingSet, testSet)\n",
    "# print('Train:' + repr(len(trainingSet)))\n",
    "# print('Train:' + repr(len(testSet)))"
   ]
  },
  {
   "cell_type": "code",
   "execution_count": 112,
   "metadata": {},
   "outputs": [],
   "source": [
    "# 2 FIND SIMILARITY\n",
    "def euclideanDistance(instance1, instance2, length):\n",
    "    distance = 0\n",
    "    for X in range(length):\n",
    "        distance += pow(instance1[X] - instance2[X], 2)\n",
    "    return math.sqrt(distance)"
   ]
  },
  {
   "cell_type": "code",
   "execution_count": 113,
   "metadata": {},
   "outputs": [],
   "source": [
    "# data1 = [2,2,2,'a']\n",
    "# data2 = [4,4,4,'b']\n",
    "# distance = euclideanDistance(data1, data2, 3)\n",
    "# print(\"Distance: \" + repr(distance))"
   ]
  },
  {
   "cell_type": "code",
   "execution_count": 114,
   "metadata": {},
   "outputs": [],
   "source": [
    "def getNeighbors(trainingSet, testInstance, k):\n",
    "    distances = []\n",
    "    length = len(testInstance) - 1\n",
    "    for X in range(len(trainingSet)):\n",
    "        dist = euclideanDistance(testInstance, trainingSet[X], length)\n",
    "        distances.append((trainingSet[X], dist))\n",
    "    distances.sort(key=operator.itemgetter(1))\n",
    "    neighbors = []\n",
    "    for X in range(k):\n",
    "        neighbors.append(distances[X][0])\n",
    "    return neighbors"
   ]
  },
  {
   "cell_type": "code",
   "execution_count": 115,
   "metadata": {},
   "outputs": [],
   "source": [
    "# trainSet = [[2,2,2,'a'],[4,4,4,'b']]\n",
    "# testInstance = [5,5,5]\n",
    "# k=1\n",
    "# neighbors = getNeighbors(trainSet, testInstance, 1)\n",
    "# print(neighbors)"
   ]
  },
  {
   "cell_type": "code",
   "execution_count": 116,
   "metadata": {},
   "outputs": [],
   "source": [
    "def getResponse(neighbors):\n",
    "    classVotes = {}\n",
    "    for X in range(len(neighbors)):\n",
    "        response = neighbors[X][-1]\n",
    "        if response in classVotes:\n",
    "            classVotes[response] += 1\n",
    "        else:\n",
    "            classVotes[response] = 1\n",
    "    sortedVotes = sorted(classVotes.items(), key=operator.itemgetter(1), reverse=True)\n",
    "    return sortedVotes[0][0]"
   ]
  },
  {
   "cell_type": "code",
   "execution_count": 117,
   "metadata": {},
   "outputs": [],
   "source": [
    "# neighbors = [[1,1,1,'a'],[2,2,2,'a'],[3,3,3,'b']]\n",
    "# response = getResponse(neighbors)\n",
    "# print(response)"
   ]
  },
  {
   "cell_type": "code",
   "execution_count": 118,
   "metadata": {},
   "outputs": [],
   "source": [
    "def getAccuracy(testSet, predictions):\n",
    "    correct = 0\n",
    "    for X in range(len(testSet)):\n",
    "        if testSet[X][-1] is predictions[X]:\n",
    "            correct += 1\n",
    "    return (correct / float(len(testSet))) * 100.0"
   ]
  },
  {
   "cell_type": "code",
   "execution_count": 119,
   "metadata": {},
   "outputs": [],
   "source": [
    "# testSet = [[1,1,1,'a'],[2,2,2,'a'],[3,3,3,'b']]\n",
    "# predictions = ['a', 'a', 'a']\n",
    "# accuracy = getAccuracy(testSet, predictions)\n",
    "# print(accuracy)"
   ]
  },
  {
   "cell_type": "code",
   "execution_count": 120,
   "metadata": {},
   "outputs": [
    {
     "name": "stdout",
     "output_type": "stream",
     "text": [
      "Train set: 109\n",
      "Test set: 40\n",
      "> precdited='Iris-setosa', actual='Iris-setosa'\n",
      "> precdited='Iris-setosa', actual='Iris-setosa'\n",
      "> precdited='Iris-setosa', actual='Iris-setosa'\n",
      "> precdited='Iris-setosa', actual='Iris-setosa'\n",
      "> precdited='Iris-setosa', actual='Iris-setosa'\n",
      "> precdited='Iris-setosa', actual='Iris-setosa'\n",
      "> precdited='Iris-setosa', actual='Iris-setosa'\n",
      "> precdited='Iris-setosa', actual='Iris-setosa'\n",
      "> precdited='Iris-setosa', actual='Iris-setosa'\n",
      "> precdited='Iris-setosa', actual='Iris-setosa'\n",
      "> precdited='Iris-setosa', actual='Iris-setosa'\n",
      "> precdited='Iris-setosa', actual='Iris-setosa'\n",
      "> precdited='Iris-setosa', actual='Iris-setosa'\n",
      "> precdited='Iris-versicolor', actual='Iris-versicolor'\n",
      "> precdited='Iris-versicolor', actual='Iris-versicolor'\n",
      "> precdited='Iris-versicolor', actual='Iris-versicolor'\n",
      "> precdited='Iris-versicolor', actual='Iris-versicolor'\n",
      "> precdited='Iris-versicolor', actual='Iris-versicolor'\n",
      "> precdited='Iris-versicolor', actual='Iris-versicolor'\n",
      "> precdited='Iris-versicolor', actual='Iris-versicolor'\n",
      "> precdited='Iris-versicolor', actual='Iris-versicolor'\n",
      "> precdited='Iris-versicolor', actual='Iris-versicolor'\n",
      "> precdited='Iris-versicolor', actual='Iris-versicolor'\n",
      "> precdited='Iris-versicolor', actual='Iris-versicolor'\n",
      "> precdited='Iris-versicolor', actual='Iris-versicolor'\n",
      "> precdited='Iris-versicolor', actual='Iris-versicolor'\n",
      "> precdited='Iris-versicolor', actual='Iris-versicolor'\n",
      "> precdited='Iris-versicolor', actual='Iris-versicolor'\n",
      "> precdited='Iris-versicolor', actual='Iris-versicolor'\n",
      "> precdited='Iris-virginica', actual='Iris-virginica'\n",
      "> precdited='Iris-virginica', actual='Iris-virginica'\n",
      "> precdited='Iris-versicolor', actual='Iris-virginica'\n",
      "> precdited='Iris-virginica', actual='Iris-virginica'\n",
      "> precdited='Iris-virginica', actual='Iris-virginica'\n",
      "> precdited='Iris-virginica', actual='Iris-virginica'\n",
      "> precdited='Iris-virginica', actual='Iris-virginica'\n",
      "> precdited='Iris-virginica', actual='Iris-virginica'\n",
      "> precdited='Iris-virginica', actual='Iris-virginica'\n",
      "> precdited='Iris-virginica', actual='Iris-virginica'\n",
      "> precdited='Iris-virginica', actual='Iris-virginica'\n",
      "Accuracy: 0.0%\n"
     ]
    }
   ],
   "source": [
    "def main():\n",
    "    # Prepare data\n",
    "    trainingSet = []\n",
    "    testSet = []\n",
    "    split = 0.67\n",
    "    loadDataset('datasets/iris.csv', split, trainingSet, testSet)\n",
    "    print('Train set: ' + repr(len(trainingSet)))\n",
    "    print('Test set: ' + repr(len(testSet)))\n",
    "          \n",
    "    # Generate predictions\n",
    "    predictions = []\n",
    "    k = 3\n",
    "    \n",
    "    for X in range(len(testSet)):\n",
    "          neighbors = getNeighbors(trainingSet, testSet[X], k)\n",
    "          result = getResponse(neighbors)\n",
    "          predictions.append(result)\n",
    "          print('> precdited=' + repr(result) + ', actual=' + repr(testSet[X][-1]))\n",
    "    accuracy = getAccuracy(testSet, predictions)\n",
    "    print('Accuracy: ' + repr(accuracy) + '%')\n",
    "main()"
   ]
  },
  {
   "cell_type": "code",
   "execution_count": null,
   "metadata": {},
   "outputs": [],
   "source": []
  }
 ],
 "metadata": {
  "kernelspec": {
   "display_name": "Python 3",
   "language": "python",
   "name": "python3"
  },
  "language_info": {
   "codemirror_mode": {
    "name": "ipython",
    "version": 3
   },
   "file_extension": ".py",
   "mimetype": "text/x-python",
   "name": "python",
   "nbconvert_exporter": "python",
   "pygments_lexer": "ipython3",
   "version": "3.7.4"
  }
 },
 "nbformat": 4,
 "nbformat_minor": 2
}

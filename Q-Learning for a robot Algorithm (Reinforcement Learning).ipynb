{
 "cells": [
  {
   "cell_type": "code",
   "execution_count": 11,
   "metadata": {},
   "outputs": [],
   "source": [
    "import numpy as np"
   ]
  },
  {
   "cell_type": "code",
   "execution_count": 12,
   "metadata": {},
   "outputs": [],
   "source": [
    "# initialize parameters\n",
    "gamma = 0.75 # discount factor\n",
    "alpha = 0.9 # learning rate"
   ]
  },
  {
   "cell_type": "code",
   "execution_count": 13,
   "metadata": {},
   "outputs": [],
   "source": [
    "# define the states\n",
    "location_to_state = {\n",
    "    'L1' : 0,\n",
    "    'L2' : 1,\n",
    "    'L3' : 2,\n",
    "    'L4' : 3,\n",
    "    'L5' : 4,\n",
    "    'L6' : 5,\n",
    "    'L7' : 6,\n",
    "    'L8' : 7,\n",
    "    'L9' : 8\n",
    "}"
   ]
  },
  {
   "cell_type": "code",
   "execution_count": 14,
   "metadata": {},
   "outputs": [],
   "source": [
    "# define actions\n",
    "actions = [0,1,2,3,4,5,6,7,8]"
   ]
  },
  {
   "cell_type": "code",
   "execution_count": 15,
   "metadata": {},
   "outputs": [],
   "source": [
    "# define the reward table\n",
    "rewards = np.array([\n",
    "    [0,1,0,0,0,0,0,0,0],\n",
    "    [1,0,1,0,1,0,0,0,0],\n",
    "    [0,1,0,0,0,1,0,0,0],\n",
    "    [0,0,0,0,0,0,1,0,0],\n",
    "    [0,1,0,0,0,0,0,1,0],\n",
    "    [0,0,1,0,0,0,0,0,0],\n",
    "    [0,0,0,1,0,0,0,1,0],\n",
    "    [0,0,0,0,1,0,1,0,1],\n",
    "    [0,0,0,0,0,0,0,1,1]\n",
    "])\n",
    "# in tough situations add -1 (negative reward)"
   ]
  },
  {
   "cell_type": "code",
   "execution_count": 16,
   "metadata": {},
   "outputs": [],
   "source": [
    "# map indeces map locations\n",
    "state_to_location = dict((state, location) for location, state in location_to_state.items())"
   ]
  },
  {
   "cell_type": "code",
   "execution_count": 21,
   "metadata": {},
   "outputs": [],
   "source": [
    "# define get_optimal_route function\n",
    "def get_optimal_route(start_location, end_location):\n",
    "    # copy rewards matrix to new matrix\n",
    "    rewards_new = np.copy(rewards)   \n",
    "    # get the ending state corresponding to the ending location as given\n",
    "    ending_state = location_to_state[end_location]   \n",
    "    # with the above information, automatically set the priority of the given ending state to the higest one\n",
    "    rewards_new[ending_state, ending_state] = 999\n",
    "    \n",
    "    '''Q-Learning algorithm'''\n",
    "    # Initializing Q-values\n",
    "    Q = np.array(np.zeros([9,9]))\n",
    "    \n",
    "    # Q-Learning process\n",
    "    for i in range(1000):\n",
    "        # pick up a state randomly\n",
    "        current_state = np.random.randint(0,9) # python excludes the upper bound\n",
    "        # for transversing through the neighbor locations in the maze\n",
    "        playable_actions = []\n",
    "        # iterate through the new rewards matrix and get the actions > 0\n",
    "        for j in range(9):\n",
    "            if rewards_new[current_state, j] > 0:\n",
    "                playable_actions.append(j)\n",
    "        # pick an action randomly from the list of playable actions leading us to the next state\n",
    "        next_state = np.random.choice(playable_actions)\n",
    "        # compute the temporal difference\n",
    "        # the action here exactly referes to going to the next state\n",
    "        TD = rewards_new[current_state, next_state] + gamma * Q[next_state, np.argmax(Q[next_state,])] - Q[current_state, next_state]\n",
    "        # update the Q-value using Bellman equation\n",
    "        Q[current_state, next_state] += alpha * TD\n",
    "    \n",
    "    # initailze the optimal route with the starting location\n",
    "    route  = [start_location]\n",
    "    # we don't know about the next location yet, so initialize with the value of starting location\n",
    "    next_location = start_location\n",
    "    \n",
    "    # we don't know about the exact no of iterations needed to reach to the final location hence while loop \n",
    "    # will be a good choice for the iteration\n",
    "    while(next_location != end_location):\n",
    "        # fetch the starting state\n",
    "        starting_state = location_to_state[start_location]\n",
    "        # fetch the highest Q-value pertaining to starting state\n",
    "        next_state = np.argmax(Q[starting_state,])\n",
    "        # we got the index of the next state. But we need the corresponding letter\n",
    "        next_location = state_to_location[next_state]\n",
    "        route.append(next_location)\n",
    "        # update the starting location for the next iteration\n",
    "        start_location =  next_location\n",
    "\n",
    "    return route"
   ]
  },
  {
   "cell_type": "code",
   "execution_count": 23,
   "metadata": {},
   "outputs": [
    {
     "name": "stdout",
     "output_type": "stream",
     "text": [
      "['L9', 'L8', 'L5', 'L2', 'L1']\n"
     ]
    }
   ],
   "source": [
    "# maximum reward for the robot\n",
    "print(get_optimal_route('L9', 'L1'))"
   ]
  }
 ],
 "metadata": {
  "kernelspec": {
   "display_name": "Python 3",
   "language": "python",
   "name": "python3"
  },
  "language_info": {
   "codemirror_mode": {
    "name": "ipython",
    "version": 3
   },
   "file_extension": ".py",
   "mimetype": "text/x-python",
   "name": "python",
   "nbconvert_exporter": "python",
   "pygments_lexer": "ipython3",
   "version": "3.7.4"
  }
 },
 "nbformat": 4,
 "nbformat_minor": 2
}

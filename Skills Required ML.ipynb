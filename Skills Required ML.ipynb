{
 "cells": [
  {
   "cell_type": "code",
   "execution_count": 1,
   "metadata": {},
   "outputs": [
    {
     "data": {
      "text/plain": [
       "'\\n10. Progarmming Languages ((Python)) -> classes, data structurs, memory management, R, Java (Hadoop), C++, Python\\n09. \\n'"
      ]
     },
     "execution_count": 1,
     "metadata": {},
     "output_type": "execute_result"
    }
   ],
   "source": [
    "'''\n",
    "10. Progarmming Languages ((Python)) -> classes, data structurs, memory management, R, Java (Hadoop), C++, Python\n",
    "09. Linear Algebra -  Calculus, Linear algebra, stats, matrix\n",
    "08. Advance sinal processing - Wavelets, Shearlets, curvelets, bandlets\n",
    "07. Applied maths and algorithms - Math, Algorithm (Theory), Numerical analysis\n",
    "06. Neural network architechtors - \n",
    "05. NLP - Python NLTK , Audio and video analysis\n",
    "04. Soft Skills - Industry knowledge\n",
    "03. Effective communicatopm - presentation, paying attention, Focus on results . Tech > Non tech\n",
    "02. Rapid prototyping - New ideas, A/B testing\n",
    "01. Keep updated -  Research paper, community changes and development\n",
    "\n",
    "BONUS SKILLS\n",
    "Physics\n",
    "Reinforcement learning (Alpha zero - Roobotics)\n",
    "Computer vision\n",
    "'''"
   ]
  },
  {
   "cell_type": "code",
   "execution_count": null,
   "metadata": {},
   "outputs": [],
   "source": []
  }
 ],
 "metadata": {
  "kernelspec": {
   "display_name": "Python 3",
   "language": "python",
   "name": "python3"
  },
  "language_info": {
   "codemirror_mode": {
    "name": "ipython",
    "version": 3
   },
   "file_extension": ".py",
   "mimetype": "text/x-python",
   "name": "python",
   "nbconvert_exporter": "python",
   "pygments_lexer": "ipython3",
   "version": "3.7.4"
  }
 },
 "nbformat": 4,
 "nbformat_minor": 2
}
